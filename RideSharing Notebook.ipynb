{
 "cells": [
  {
   "cell_type": "markdown",
   "metadata": {},
   "source": [
    "# 1. Raw Data"
   ]
  },
  {
   "cell_type": "markdown",
   "metadata": {},
   "source": [
    "### 1.1 Create DB Conncection"
   ]
  },
  {
   "cell_type": "code",
   "execution_count": null,
   "metadata": {
    "scrolled": true
   },
   "outputs": [],
   "source": [
    "import db_connect\n",
    "sql = db_connect.DatabaseConnect('CS581GROUP6','localhost','root','qwerty','3306')"
   ]
  },
  {
   "cell_type": "markdown",
   "metadata": {},
   "source": [
    "# 2. Preprocessing"
   ]
  },
  {
   "cell_type": "code",
   "execution_count": null,
   "metadata": {},
   "outputs": [],
   "source": [
    "from datetime import datetime\n",
    "from datetime import timedelta  \n",
    "import numpy as np\n",
    "import pandas as pd\n",
    "import math\n",
    "import sys\n",
    "from geopy.distance import geodesic"
   ]
  },
  {
   "cell_type": "code",
   "execution_count": null,
   "metadata": {},
   "outputs": [],
   "source": [
    "max_delay_percent = 0.25\n",
    "max_delay = 600\n",
    "max_walking_time_percent = 0.10\n",
    "max_walking_time = 240\n",
    "\n",
    "pool_duration = 5"
   ]
  },
  {
   "cell_type": "markdown",
   "metadata": {},
   "source": [
    "### 2.1 Mapping Coordinates to Destination ID"
   ]
  },
  {
   "cell_type": "code",
   "execution_count": null,
   "metadata": {},
   "outputs": [],
   "source": [
    "def getdestid(lat,longt):\n",
    "    return df_destinations.iloc[df_destinations.apply(lambda x: np.linalg.norm(np.array([lat, longt]) - np.array([x['destLat'],x['destLong']])), axis=1).idxmin(axis = 0)]['destID']"
   ]
  },
  {
   "cell_type": "code",
   "execution_count": null,
   "metadata": {},
   "outputs": [],
   "source": [
    "def search_map_dest_id(lat_start, lat_end, long_start, long_end, dest_lat, dest_long, num_of_iter, num_of_iter_limit):\n",
    "    \n",
    "    if lat_start + (lat_end - lat_start)/2 >= dest_lat:\n",
    "        lat_end = lat_start + (lat_end - lat_start)/2\n",
    "    else:\n",
    "        lat_start = lat_start + (lat_end - lat_start)/2\n",
    "\n",
    "    if long_start + (long_end - long_start)/2 >= dest_long:\n",
    "        long_end = long_start + (long_end - long_start)/2\n",
    "    else:\n",
    "        long_start = long_start + (long_end - long_start)/2\n",
    "    num_of_iter = num_of_iter + 1\n",
    "    if num_of_iter <= num_of_iter_limit:\n",
    "        return search_map_dest_id(lat_start, lat_end, long_start, long_end, dest_lat, dest_long, num_of_iter,num_of_iter_limit)\n",
    "\n",
    "    else:\n",
    "        filtered_dest = df_destinations.loc[(df_destinations['destLat'] >= lat_start) & (df_destinations['destLat'] <= lat_end) & (df_destinations['destLong'] >= long_start) & (df_destinations['destLong'] <= long_end)]\n",
    "        if len(filtered_dest) == 0:\n",
    "            return False\n",
    "        else:    \n",
    "            return df_destinations.iloc[filtered_dest.apply(lambda x: np.linalg.norm(np.array([dest_lat,dest_long]) - np.array([x['destLat'],x['destLong']])), axis=1).idxmin(axis = 0)]['destID']"
   ]
  },
  {
   "cell_type": "markdown",
   "metadata": {},
   "source": [
    "### 2.2 Pool Window Assignment"
   ]
  },
  {
   "cell_type": "code",
   "execution_count": null,
   "metadata": {},
   "outputs": [],
   "source": [
    "def getPoolWindow(pickup_time, pool_start_time, pool_window_id):\n",
    "    \n",
    "    pool_end_time = pool_start_time + timedelta(minutes = pool_duration)\n",
    "    \n",
    "    if(pickup_time > pool_end_time):\n",
    "        \n",
    "        pool_window_id += 1\n",
    "    \n",
    "        while(pickup_time > pool_end_time):\n",
    "\n",
    "            pool_start_time += timedelta(minutes = pool_duration)\n",
    "            pool_end_time = pool_start_time + timedelta(minutes = pool_duration)\n",
    "                \n",
    "    return pool_start_time, pool_window_id\n",
    "\n",
    "def poolWindowAssignment():\n",
    "    \n",
    "    pool_window_id = 1 \n",
    "    pool_start_time = df['tpep_pickup_datetime'][0]\n",
    "    pool_window_id_list = []\n",
    "    req_pool_window_id_list = []\n",
    "    pool_start_time_list = []\n",
    "    pool_window_duration_list = []\n",
    "    \n",
    "    i = 0\n",
    "    pool_window_id_list.append(pool_window_id)\n",
    "    pool_start_time_list.append(pool_start_time)\n",
    "    pool_window_duration_list.append(pool_duration)\n",
    "    \n",
    "    for pickup_datetime in df.tpep_pickup_datetime:\n",
    "        \n",
    "        pool_start_time, pool_window_id = getPoolWindow(pickup_datetime, pool_start_time, pool_window_id)\n",
    "        req_pool_window_id_list.append(pool_window_id)\n",
    "\n",
    "        #print('pool_window_id_list[',i,'] ',pool_window_id_list[i],' pool_window_id: ',pool_window_id)\n",
    "        if(pool_window_id_list[i] != pool_window_id):\n",
    "            pool_window_id_list.append(pool_window_id)\n",
    "            pool_start_time_list.append(pool_start_time)\n",
    "            pool_window_duration_list.append(pool_duration)\n",
    "            i += 1\n",
    "    \n",
    "    df['pool_window_id'] = req_pool_window_id_list\n",
    "\n",
    "    pool_window_data = {'poolingWindowID': pool_window_id_list, 'poolingStartTime': pool_start_time_list, 'poolingDuration': pool_window_duration_list}\n",
    "    pool_window_df = pd.DataFrame(data=pool_window_data)\n",
    "    return pool_window_df"
   ]
  },
  {
   "cell_type": "markdown",
   "metadata": {},
   "source": [
    "### 2.3 Calculate Ride Time"
   ]
  },
  {
   "cell_type": "code",
   "execution_count": null,
   "metadata": {},
   "outputs": [],
   "source": [
    "def getRideTime(time):\n",
    "    time = sec_to_min(time.seconds)\n",
    "    return time"
   ]
  },
  {
   "cell_type": "markdown",
   "metadata": {},
   "source": [
    "### 2.4 Calculate Delay"
   ]
  },
  {
   "cell_type": "code",
   "execution_count": null,
   "metadata": {},
   "outputs": [],
   "source": [
    "def getDelay(pickupTime, dropoffTime):\n",
    "    tripTime = (dropoffTime - pickupTime).seconds\n",
    "    trip_percent = tripTime * max_delay_percent\n",
    "    return min(trip_percent, max_delay)"
   ]
  },
  {
   "cell_type": "markdown",
   "metadata": {},
   "source": [
    "### 2.5 Calculate Walking Time"
   ]
  },
  {
   "cell_type": "code",
   "execution_count": null,
   "metadata": {},
   "outputs": [],
   "source": [
    "def getWalkingTime(pickupTime, dropoffTime):\n",
    "    tripTime = (dropoffTime - pickupTime).seconds\n",
    "    trip_percent = tripTime * max_walking_time_percent\n",
    "    return min(trip_percent, max_walking_time)"
   ]
  },
  {
   "cell_type": "markdown",
   "metadata": {},
   "source": [
    "### 2.6 Calculate Cost for Individual Ride"
   ]
  },
  {
   "cell_type": "code",
   "execution_count": null,
   "metadata": {},
   "outputs": [],
   "source": [
    "def sec_to_min(sec_time):\n",
    "    return sec_time/60"
   ]
  },
  {
   "cell_type": "code",
   "execution_count": null,
   "metadata": {},
   "outputs": [],
   "source": [
    "def meter_to_mile(meter_distance):\n",
    "    return meter_distance/1609.34"
   ]
  },
  {
   "cell_type": "code",
   "execution_count": null,
   "metadata": {},
   "outputs": [],
   "source": [
    "def cost_function(distance, time, isSharedTrip):\n",
    "    #Convert milliseconds to minutes\n",
    "    time = sec_to_min(time.seconds)\n",
    "    #Convert meters to miles\n",
    "    #distance = meter_to_mile(distance)\n",
    "    if isSharedTrip:\n",
    "        cost_per_mile = 1.00\n",
    "        cost_per_min = 0.18\n",
    "    else:\n",
    "        cost_per_mile = 1.80\n",
    "        cost_per_min = 0.28\n",
    "    base_fare = 0\n",
    "    booking_fee = 2.3\n",
    "    min_fare = 7.3\n",
    "    #print(distance, time)\n",
    "    total_fare = (cost_per_mile * distance) + (cost_per_min * time) + base_fare + booking_fee + min_fare\n",
    "    return total_fare"
   ]
  },
  {
   "cell_type": "markdown",
   "metadata": {},
   "source": [
    "# Execute Preprocessing"
   ]
  },
  {
   "cell_type": "code",
   "execution_count": null,
   "metadata": {},
   "outputs": [],
   "source": [
    "#df = pd.read_csv('RideSharingData/filtered_data2.csv')\n",
    "df = pd.read_csv('RideSharingData/10_June_filtered_data.csv')\n",
    "df_destinations = sql.query('select * from destination',True)\n",
    "\n",
    "df['tpep_pickup_datetime'] = [datetime.strptime(pickup_time, '%Y-%m-%d %H:%M:%S') \n",
    "                                          for pickup_time in df['tpep_pickup_datetime']]\n",
    "\n",
    "df['tpep_dropoff_datetime'] = [datetime.strptime(dropoff_time, '%Y-%m-%d %H:%M:%S') \n",
    "                                          for dropoff_time in df['tpep_dropoff_datetime']]\n",
    "import time\n",
    "start_time = time.time()\n",
    "#df['destination_id'] = df.iloc[:1000].apply(lambda x: getdestid(x['dropoff_latitude'],x['dropoff_longitude']),axis = 1)\n",
    "df['destID'] = df.apply(lambda x: search_map_dest_id(40.69134374000000000000, 40.88140500000000000000, -74.04164664000000000000, -73.87790573000000000000, x['dropoff_latitude'], x['dropoff_longitude'], 0, 5),axis = 1)\n",
    "elapsed_time = time.time() - start_time\n",
    "print(elapsed_time)\n",
    "\n",
    "df['indvRideTime'] = df.apply(lambda x: getRideTime(x['tpep_dropoff_datetime']-x['tpep_pickup_datetime']),axis = 1)\n",
    "df['indvRideCost'] = df.apply(lambda x: cost_function(x['trip_distance'],x['tpep_dropoff_datetime']-x['tpep_pickup_datetime'], False),axis = 1)\n",
    "df['maxDelay'] = df.apply(lambda x: getDelay(x['tpep_pickup_datetime'],x['tpep_dropoff_datetime']),axis = 1)\n",
    "df['maxWalkTime'] = df.apply(lambda x: getWalkingTime(x['tpep_pickup_datetime'],x['tpep_dropoff_datetime']),axis = 1)\n",
    "\n",
    "#cost_function(df['trip_distance'], df['tpep_dropoff_datetime']-df['tpep_pickup_datetime'], False)"
   ]
  },
  {
   "cell_type": "code",
   "execution_count": null,
   "metadata": {},
   "outputs": [],
   "source": [
    "import time\n",
    "start_time = time.time()\n",
    "df.loc[df['destID']==False,'destID']=df.loc[df['destID']==False].apply(lambda x: getdestid(x['dropoff_latitude'], x['dropoff_longitude']),axis = 1)\n",
    "elapsed_time = time.time() - start_time\n",
    "print(elapsed_time)"
   ]
  },
  {
   "cell_type": "code",
   "execution_count": null,
   "metadata": {
    "scrolled": true
   },
   "outputs": [],
   "source": [
    "df.loc[df['destID']==False]"
   ]
  },
  {
   "cell_type": "markdown",
   "metadata": {},
   "source": [
    "# 3. DF_Request Table"
   ]
  },
  {
   "cell_type": "code",
   "execution_count": null,
   "metadata": {},
   "outputs": [],
   "source": [
    "pool_window_df = poolWindowAssignment()"
   ]
  },
  {
   "cell_type": "code",
   "execution_count": null,
   "metadata": {},
   "outputs": [],
   "source": [
    "df['reqID'] =  df.index + 1\n",
    "request_df = df[['reqID', 'numberOfPassengers', 'isWillingToWalk', 'destID', 'maxDelay','maxWalkTime','tpep_pickup_datetime','indvRideTime','trip_distance','indvRideCost','pool_window_id']].copy()"
   ]
  },
  {
   "cell_type": "code",
   "execution_count": null,
   "metadata": {},
   "outputs": [],
   "source": [
    "request_df=request_df.rename(index=str, columns={'tpep_pickup_datetime':'requestTime','trip_distance':'indvRideDist','pool_window_id':'poolingWindowID'})"
   ]
  },
  {
   "cell_type": "code",
   "execution_count": null,
   "metadata": {},
   "outputs": [],
   "source": [
    "request_df"
   ]
  },
  {
   "cell_type": "code",
   "execution_count": null,
   "metadata": {},
   "outputs": [],
   "source": [
    "request_df.to_csv('RideSharingData/mapped_data.csv',sep=\",\");"
   ]
  },
  {
   "cell_type": "code",
   "execution_count": null,
   "metadata": {},
   "outputs": [],
   "source": [
    "request_df.shape"
   ]
  },
  {
   "cell_type": "markdown",
   "metadata": {},
   "source": [
    "# 4. Insert into SQL DB"
   ]
  },
  {
   "cell_type": "code",
   "execution_count": null,
   "metadata": {},
   "outputs": [],
   "source": [
    "#pool_window_df\n",
    "sql.insert(pool_window_df,'POOLING_WINDOW');"
   ]
  },
  {
   "cell_type": "code",
   "execution_count": null,
   "metadata": {},
   "outputs": [],
   "source": [
    "sql.insert(request_df,'REQUESTS');"
   ]
  },
  {
   "cell_type": "markdown",
   "metadata": {},
   "source": [
    "# Exceptions"
   ]
  },
  {
   "cell_type": "code",
   "execution_count": null,
   "metadata": {},
   "outputs": [],
   "source": [
    "df_q = pd.merge(df_destinations, request_df, on='destID', how='inner')"
   ]
  },
  {
   "cell_type": "code",
   "execution_count": null,
   "metadata": {},
   "outputs": [],
   "source": [
    "df_q.dtypes"
   ]
  },
  {
   "cell_type": "code",
   "execution_count": null,
   "metadata": {},
   "outputs": [],
   "source": [
    "df.loc[df['total_amount']>500]"
   ]
  },
  {
   "cell_type": "code",
   "execution_count": null,
   "metadata": {},
   "outputs": [],
   "source": [
    "df.loc[df['total_amount']<0]"
   ]
  },
  {
   "cell_type": "code",
   "execution_count": null,
   "metadata": {
    "scrolled": true
   },
   "outputs": [],
   "source": [
    "df.loc[df['indvRideCost']>400]"
   ]
  },
  {
   "cell_type": "code",
   "execution_count": null,
   "metadata": {
    "scrolled": false
   },
   "outputs": [],
   "source": [
    "df.loc[df['indvRideTime']>360].size"
   ]
  },
  {
   "cell_type": "markdown",
   "metadata": {},
   "source": [
    "# Actual Individual Cost vs Calculated Individual Cost"
   ]
  },
  {
   "cell_type": "code",
   "execution_count": null,
   "metadata": {},
   "outputs": [],
   "source": [
    "import matplotlib.pyplot as plt\n",
    "import numpy as np\n",
    "\n",
    "x = np.arange(len(df))\n",
    "\n",
    "\n",
    "# Get current size\n",
    "fig_size = plt.rcParams[\"figure.figsize\"]\n",
    " \n",
    "# Prints: [8.0, 6.0]\n",
    "print (\"Current size:\", fig_size)\n",
    "# Set figure width to 12 and height to 9\n",
    "fig_size[0] = 16\n",
    "fig_size[1] = 10\n",
    "plt.rcParams[\"figure.figsize\"] = fig_size\n",
    "\n",
    "\n",
    "plt.plot(x, df['indvRideCost'])\n",
    "plt.plot(x, df['total_amount'])\n",
    "\n",
    "plt.legend(['calculated_cost','actual_cost'], loc='upper left')\n",
    "plt.show()"
   ]
  },
  {
   "cell_type": "markdown",
   "metadata": {},
   "source": [
    "# 4. Shareability Graph"
   ]
  },
  {
   "cell_type": "markdown",
   "metadata": {},
   "source": [
    "### For each pool"
   ]
  },
  {
   "cell_type": "code",
   "execution_count": null,
   "metadata": {},
   "outputs": [],
   "source": [
    "def getRequestListForEachPoolId():\n",
    "    max_pool_window_id = df['pool_window_id'].max()\n",
    "    all_req_list = []\n",
    "    each_pool_req_list = []\n",
    "    \n",
    "    for x in range(1,  max_pool_window_id  ):\n",
    "        each_pool_req_list = df.loc[df['pool_window_id'] == x]\n",
    "        all_req_list.append(each_pool_req_list)\n",
    "    return all_req_list"
   ]
  },
  {
   "cell_type": "code",
   "execution_count": null,
   "metadata": {},
   "outputs": [],
   "source": [
    "def sharability_graph(pool_request_list):\n",
    "    \n",
    "    source_dest = (40.644190, -73.782366)\n",
    "    taxi_capacity = 3\n",
    "    graph = {}\n",
    "    \n",
    "    for index, req_A in pool_request_list.iterrows():\n",
    "        \n",
    "        dest_id_A = req_A['destID']\n",
    "        if req_A['isWillingToWalk'] == 1:\n",
    "            walk_time_A = req_A['maxWalkTime']\n",
    "        else:\n",
    "            walk_time_A = 0\n",
    "        \n",
    "        indv_ride_time_A = req_A['indvRideTime']\n",
    "        max_delay_A = req_A['maxDelay']\n",
    "        \n",
    "        for idx, req_B in pool_request_list.iterrows():\n",
    "            \n",
    "            dest_id_B = req_B['destID']\n",
    "            indv_ride_time_B = req_B['indvRideTime']\n",
    "            max_delay_B = req_B['maxDelay']\n",
    "            \n",
    "            if req_B['isWillingToWalk'] == 1:\n",
    "                walk_time_B = req_A['maxWalkTime']\n",
    "            else:\n",
    "                walk_time_B = 0\n",
    "                \n",
    "            if dest_id_A != dest_id_B and req_A['passenger_count'] + req_B['passenger_count'] <= taxi_capacity:\n",
    "                \n",
    "                poss_dest_A_list = []\n",
    "                poss_dest_B_list = []\n",
    "                \n",
    "                if(apply_euclidean_elimination(req_A, req_B)==False):\n",
    "                    continue\n",
    "                \n",
    "                poss_dest_A_list , poss_dest_B_list = possibleDestinations(dest_id_A, walk_time_A, dest_id_B, walk_time_B)\n",
    "\n",
    "                max_benefit = 0\n",
    "                   \n",
    "                destIndexA, destIndexB = select_route(source_dest, poss_dest_A_list, poss_dest_B_list)\n",
    "                print(dest_id_A, dest_id_B)\n",
    "                print(destIndexA,destIndexB)\n",
    "                print()\n",
    "                #shared_time_A, shared_time_B = calculate_shared_time(source_dest, poss_dest_A, poss_dest_B)\n",
    "\n",
    "#                 if shared_time_A <= indv_ride_time_A + max_delay_A and shared_time_B <= indv_ride_time_B + max_delay_B:\n",
    "#                     benefit = compute_benefit(source_dest, poss_dest_A, poss_dest_B)\n",
    "#                     if benefit > max_benefit:\n",
    "#                         max_benefit = benefit\n",
    "                                \n",
    "#                 if req_A in graph:\n",
    "#                     req_A_sharability_list = (graph['dest_id_A']).append([dest_id_B, max_benefit])\n",
    "#                     graph['dest_id_A'] = req_A_sharability_list\n",
    "#                 else:\n",
    "#                     graph['dest_id_A'] = [[dest_id_B, max_benefit]]\n",
    "                \n",
    "    return graph"
   ]
  },
  {
   "cell_type": "code",
   "execution_count": null,
   "metadata": {},
   "outputs": [],
   "source": [
    "def possibleDestinations(id1, walk1, id2, walk2):\n",
    "    list1 = []\n",
    "    list1.append(id1)\n",
    "    list2 = []\n",
    "    list2.append(id2)\n",
    "\n",
    "    dest_tag = \"DEST\"\n",
    "    id1 = int(id1.split(dest_tag)[1])\n",
    "    id2 = int(id2.split(dest_tag)[1])\n",
    "\n",
    "    if(walk1 <= 240):\n",
    "        list1 = createDestinationList(dest_tag,id1)\n",
    "\n",
    "    if(walk2 <= 240):\n",
    "        list2 = createDestinationList(dest_tag,id2)\n",
    "\n",
    "    return list1,list2\n",
    "\n",
    "def createDestinationList(dest_tag, dest_id_num):\n",
    "        list1 = []\n",
    "        list1.append(dest_tag+str(dest_id_num))\n",
    "        \n",
    "        #Corners\n",
    "        if(dest_id_num == 1):\n",
    "            list1.append(dest_tag+\"31\")\n",
    "            list1.append(dest_tag+\"2\")\n",
    "        elif(dest_id_num == 30):\n",
    "            list1.append(dest_tag+\"29\")\n",
    "            list1.append(dest_tag+\"60\")\n",
    "        elif(dest_id_num == 3331):\n",
    "            list1.append(dest_tag+\"3332\")\n",
    "            list1.append(dest_tag+\"3301\")\n",
    "        elif(dest_id_num == 3360):\n",
    "            list1.append(dest_tag+\"3359\")\n",
    "            list1.append(dest_tag+\"3330\")\n",
    "\n",
    "        #North edge\n",
    "        elif(dest_id_num <= 30):\n",
    "            list1.append(dest_tag+str(dest_id_num+1))\n",
    "            list1.append(dest_tag+str(dest_id_num-1))\n",
    "            list1.append(dest_tag+str(id+30))\n",
    "\n",
    "        #south edge\n",
    "        elif(dest_id_num >= 3330 and dest_id_num <= 3360):\n",
    "            list1.append(dest_tag+str(dest_id_num+1))\n",
    "            list1.append(dest_tag+str(dest_id_num-1))\n",
    "            list1.append(dest_tag+str(dest_id_num-30))\n",
    "\n",
    "        #west edge\n",
    "        elif(dest_id_num%30 == 1):\n",
    "            list1.append(dest_tag+str(dest_id_num+1))\n",
    "            list1.append(dest_tag+str(dest_id_num-30))\n",
    "            list1.append(dest_tag+str(dest_id_num+30))\n",
    "\n",
    "        #east edge\n",
    "        elif((dest_id_num%30) == 0):\n",
    "            list1.append(dest_tag+str(dest_id_num-1))\n",
    "            list1.append(dest_tag+str(dest_id_num+30))\n",
    "            list1.append(dest_tag+str(dest_id_num-30))\n",
    "        else:\n",
    "            list1.append(dest_tag+str(dest_id_num-1))\n",
    "            list1.append(dest_tag+str(dest_id_num+1))\n",
    "            list1.append(dest_tag+str(dest_id_num+30))\n",
    "            list1.append(dest_tag+str(dest_id_num-30))\n",
    "        return list1"
   ]
  },
  {
   "cell_type": "code",
   "execution_count": null,
   "metadata": {},
   "outputs": [],
   "source": [
    "def apply_euclidean_elimination(reqA, reqB):\n",
    "    \n",
    "    #Retrieve destID for request A & B\n",
    "    destID_A = reqA['destID']\n",
    "    destID_B = reqB['destID']\n",
    "    \n",
    "    #Get coordinates for destID_A and destID_B\n",
    "    latA = df_destinations.loc[df_destinations['destID']==destID_A].iloc[0]['destLat']\n",
    "    lonA = df_destinations.loc[df_destinations['destID']==destID_A].iloc[0]['destLong']\n",
    "    latB = df_destinations.loc[df_destinations['destID']==destID_B].iloc[0]['destLat']\n",
    "    lonB = df_destinations.loc[df_destinations['destID']==destID_B].iloc[0]['destLong']\n",
    "    \n",
    "    #Calculate euclidean distance in meters\n",
    "    euc_distance = meter_to_mile(math.sqrt((latA - latB)**2 + (lonA - lonB)**2)*100*1000)\n",
    "\n",
    "    #Using assumed average speed & euclidean distance calculate euclidean time from A to B\n",
    "    avg_speed = 20\n",
    "    calc_time_AtoB = euc_distance/(avg_speed/3600)\n",
    "    \n",
    "    #Check euclidean conditions for A to B and B to A\n",
    "    time_StoA = reqA['indvRideTime']\n",
    "    maxDelayA = reqA['maxDelay']\n",
    "    time_StoB = reqB['indvRideTime']\n",
    "    maxDelayB = reqA['maxDelay']\n",
    "    if (time_StoA + calc_time_AtoB < time_StoB + maxDelayB) and (time_StoB + calc_time_AtoB < time_StoA + maxDelayA):\n",
    "        return True\n",
    "    else:\n",
    "        return False"
   ]
  },
  {
   "cell_type": "code",
   "execution_count": null,
   "metadata": {},
   "outputs": [],
   "source": [
    "def select_route(jfk, list1, list2):\n",
    "    #check all pairs\n",
    "    IDA = list1[0];\n",
    "    IDB = list2[0];\n",
    "    minDist = sys.maxsize\n",
    "    \n",
    "    #check all pairs\n",
    "    for i in list1:\n",
    "        for j in list2:\n",
    "\n",
    "            aobject = df_destinations.loc[df_destinations['destID']==i]\n",
    "            bobject = df_destinations.loc[df_destinations['destID']==j]\n",
    "\n",
    "            a = (aobject[\"destLat\"].values[0], aobject[\"destLong\"].values[0])\n",
    "            b = (bobject[\"destLat\"].values[0], bobject[\"destLong\"].values[0])\n",
    "            \n",
    "            jfkToA = geodesic(jfk, a).miles\n",
    "            # jfkToB = geodesic(jfk, b).miles\n",
    "            AToB = geodesic(a, b).miles\n",
    "\n",
    "            totalAB = jfkToA+AToB\n",
    "            # totalBA = jfkToB+AToB\n",
    "\n",
    "            #update indices if smaller route found, update minDist \n",
    "            if(totalAB < minDist):\n",
    "                minDist = totalAB\n",
    "                IDA = i\n",
    "                IDB = j\n",
    "\n",
    "    #return indices in order\n",
    "    return IDA, IDB"
   ]
  },
  {
   "cell_type": "code",
   "execution_count": null,
   "metadata": {
    "scrolled": true
   },
   "outputs": [],
   "source": [
    "all_req_list = getRequestListForEachPoolId()\n",
    "graph =[]\n",
    "for pool_request_list in all_req_list:\n",
    "    graph = sharability_graph(pool_request_list)"
   ]
  },
  {
   "cell_type": "code",
   "execution_count": null,
   "metadata": {},
   "outputs": [],
   "source": [
    "#len(all_req_list)\n",
    "a = 0\n",
    "for pool in all_req_list:\n",
    "    a+=len(pool)\n",
    "print(a)"
   ]
  },
  {
   "cell_type": "code",
   "execution_count": null,
   "metadata": {},
   "outputs": [],
   "source": [
    "import math\n",
    "latA = df_destinations.loc[df_destinations['destID']=='DEST2000'].iloc[0]['destLat']\n",
    "lonA = df_destinations.loc[df_destinations['destID']=='DEST2000'].iloc[0]['destLong']\n",
    "latB = df_destinations.loc[df_destinations['destID']=='DEST270'].iloc[0]['destLat']\n",
    "lonB = df_destinations.loc[df_destinations['destID']=='DEST270'].iloc[0]['destLong']\n",
    "#type(latA)\n",
    "print(str(latA)+\"\\t\"+str(lonA))\n",
    "print(str(latB)+\"\\t\"+str(lonB))\n",
    "euc_distance = meter_to_mile(math.sqrt((latA - latB)**2 + (lonA - lonB)**2)*100*1000)\n",
    "print(euc_distance)\n",
    "avg_speed = 20\n",
    "calc_time = euc_distance/(avg_speed/3600)\n",
    "print(calc_time)\n",
    "#hav_distance = meter_to_mile(haversine(lonA, latA, lonB, latB)*1000)"
   ]
  },
  {
   "cell_type": "code",
   "execution_count": null,
   "metadata": {},
   "outputs": [],
   "source": [
    "print(df_destinations.loc[df_destinations['destID']=='DEST300'])"
   ]
  },
  {
   "cell_type": "code",
   "execution_count": null,
   "metadata": {},
   "outputs": [],
   "source": [
    "a = (df_destinations.iloc[300][\"destLat\"], df_destinations.iloc[300][\"destLong\"])\n",
    "b = (df_destinations.iloc[400][\"destLat\"], df_destinations.iloc[400][\"destLong\"])"
   ]
  },
  {
   "cell_type": "code",
   "execution_count": null,
   "metadata": {},
   "outputs": [],
   "source": [
    "print(a)\n",
    "print(b)"
   ]
  },
  {
   "cell_type": "code",
   "execution_count": null,
   "metadata": {},
   "outputs": [],
   "source": [
    "aObject = df_destinations.loc[df_destinations['destID']=='DEST300']\n",
    "print(list(aObject['destLat'], aObject['destLong']))"
   ]
  },
  {
   "cell_type": "code",
   "execution_count": null,
   "metadata": {},
   "outputs": [],
   "source": []
  }
 ],
 "metadata": {
  "kernelspec": {
   "display_name": "Python 3",
   "language": "python",
   "name": "python3"
  },
  "language_info": {
   "codemirror_mode": {
    "name": "ipython",
    "version": 3
   },
   "file_extension": ".py",
   "mimetype": "text/x-python",
   "name": "python",
   "nbconvert_exporter": "python",
   "pygments_lexer": "ipython3",
   "version": "3.6.8"
  }
 },
 "nbformat": 4,
 "nbformat_minor": 2
}
