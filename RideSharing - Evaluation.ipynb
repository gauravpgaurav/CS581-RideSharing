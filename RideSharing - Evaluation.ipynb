{
 "cells": [
  {
   "cell_type": "code",
   "execution_count": null,
   "metadata": {},
   "outputs": [],
   "source": [
    "import db_connect\n",
    "sql = db_connect.DatabaseConnect('CS581GROUP6','localhost','root','qwerty','3306')"
   ]
  },
  {
   "cell_type": "code",
   "execution_count": null,
   "metadata": {},
   "outputs": [],
   "source": [
    "class Evaluation(object):\n",
    "    def __init__(self, start_time='2016-06-10 08:00:00', stop_time='2016-06-10 22:00:00'):\n",
    "        self.start_time = start_time\n",
    "        self.stop_time=stop_time\n",
    "    \n",
    "    def evalute_dist_saved(self):\n",
    "        df = sql.query(\"\"\"select tbl_1.poolingWindowID, (sum_indv_rides - sum_shared_rides)/(sum_indv_rides) as percentage_saved from (select pw.poolingWindowID, sum(indvRideDist) as sum_indv_rides from REQUESTS as rq \n",
    "                          inner join POOLING_WINDOW as pw on rq.poolingwindowid = pw.poolingwindowid  \n",
    "                          where pw.poolingstarttime >= str_to_date('{}','%%Y-%%m-%%d %%H:%%i:%%S') \n",
    "                          and pw.poolingstarttime <= str_to_date('{}','%%Y-%%m-%%d %%H:%%i:%%S') \n",
    "                          group by pw.poolingwindowId) tbl_1 inner join (\n",
    "                          select poolingWindowID, sum(sum_rides) as sum_shared_rides from (select poolingWindowID, rideID, \n",
    "                          max(sharedRideDist) as sum_rides from RIDES group by poolingWindowID, rideID order by \n",
    "                          poolingWindowID, rideID) as tbl group by poolingwindowID) as tbl_2 \n",
    "                          on tbl_1.poolingWindowID = tbl_2.poolingWindowID;\"\"\".format(self.start_time, self.stop_time))\n",
    "        ax = df.plot(kind='line', figsize=(10,5))\n",
    "        ax.set_xlabel(\"Pools\")\n",
    "        ax.set_ylabel(\"% Distance Saved\")\n",
    "        df.fillna(0, inplace=True)\n",
    "        self.saved_dist = sum(df.percentage_saved)/len(df.percentage_saved)\n",
    "        print('saved_dist: ',self.saved_dist)\n",
    "        return df\n",
    "    \n",
    "    def evalute_trips_saved(self):\n",
    "        df = sql.query(\"\"\"select pw.poolingwindowid, (count(reqid) - count(distinct rideid))/count(reqid) as saved_rides from rides rd inner join pooling_window as pw on \n",
    "                          rd.poolingwindowid = pw.poolingwindowid where \n",
    "                          pw.poolingstarttime >= str_to_date('{}','%%Y-%%m-%%d %%H:%%i:%%S') \n",
    "                          and pw.poolingstarttime <= str_to_date('{}','%%Y-%%m-%%d %%H:%%i:%%S') group by pw.poolingwindowid;\"\"\".format(self.start_time, self.stop_time))\n",
    "        #df=df.astype('int')\n",
    "        ax = df.plot(kind='line', figsize=(10,5))\n",
    "        ax.set_xlabel(\"Pools\")\n",
    "        ax.set_ylabel(\"% saved_rides\")\n",
    "        df.fillna(0, inplace=True)\n",
    "        self.saved_trips = sum(df.saved_rides)/len(df.saved_rides)\n",
    "        print('saved_trips: ',self.saved_trips)\n",
    "        return df\n",
    "    \n",
    "        \n",
    "    def eval_pool_compute_time(self):\n",
    "        df = sql.query(\"\"\"select poolingwindowid, poolingWindowComputeTime from POOLING_WINDOW as pw where pw.poolingstarttime >= str_to_date('{}','%%Y-%%m-%%d %%H:%%i:%%S') and pw.poolingstarttime <= str_to_date('{}','%%Y-%%m-%%d %%H:%%i:%%S') and pw.poolingWindowComputeTime is not null;\"\"\".format(self.start_time, self.stop_time))\n",
    "        df.poolingWindowComputeTime = df.poolingWindowComputeTime.astype('int')\n",
    "        df.fillna(0, inplace=True)\n",
    "        ax = df.plot(kind='line', figsize=(10,5))\n",
    "        ax.set_xlabel(\"Pools\")\n",
    "        ax.set_ylabel(\"Computation Time\")\n",
    "        self.avg_compute_time = sum(df.poolingWindowComputeTime)/len(df.poolingWindowComputeTime)\n",
    "        print('avg_compute_time: ',self.avg_compute_time)\n",
    "        return df"
   ]
  },
  {
   "cell_type": "code",
   "execution_count": null,
   "metadata": {},
   "outputs": [],
   "source": [
    "a = Evaluation('2016-04-17 08:00:00', '2016-04-17 22:00:00')\n",
    "df = a.evalute_dist_saved()\n",
    "df_2 = a.evalute_trips_saved()"
   ]
  },
  {
   "cell_type": "code",
   "execution_count": null,
   "metadata": {},
   "outputs": [],
   "source": [
    "df_3= a.eval_pool_compute_time()"
   ]
  },
  {
   "cell_type": "code",
   "execution_count": null,
   "metadata": {},
   "outputs": [],
   "source": [
    "df"
   ]
  },
  {
   "cell_type": "code",
   "execution_count": null,
   "metadata": {},
   "outputs": [],
   "source": [
    "val = df['poolingWindowID'].where(df['poolingWindowID'] == 130)"
   ]
  }
 ],
 "metadata": {
  "kernelspec": {
   "display_name": "Python 3",
   "language": "python",
   "name": "python3"
  },
  "language_info": {
   "codemirror_mode": {
    "name": "ipython",
    "version": 3
   },
   "file_extension": ".py",
   "mimetype": "text/x-python",
   "name": "python",
   "nbconvert_exporter": "python",
   "pygments_lexer": "ipython3",
   "version": "3.6.8"
  }
 },
 "nbformat": 4,
 "nbformat_minor": 2
}
