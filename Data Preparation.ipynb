{
 "cells": [
  {
   "cell_type": "code",
   "execution_count": null,
   "metadata": {},
   "outputs": [],
   "source": [
    "from datetime import datetime\n",
    "from datetime import timedelta  \n",
    "import numpy as np\n",
    "import pandas as pd\n",
    "import random"
   ]
  },
  {
   "cell_type": "code",
   "execution_count": null,
   "metadata": {},
   "outputs": [],
   "source": [
    "def filter_data(df=None, path_to_file=None, start_date=None, stop_date=None):\n",
    "    \n",
    "    if df is None:\n",
    "        df = pd.read_csv(path_to_file)\n",
    "    \n",
    "        df['tpep_pickup_datetime'] = [datetime.strptime(pickup_time, '%Y-%m-%d %H:%M:%S') \n",
    "                                         for pickup_time in df['tpep_pickup_datetime']]\n",
    "\n",
    "        df['tpep_dropoff_datetime'] = [datetime.strptime(dropoff_time, '%Y-%m-%d %H:%M:%S')\n",
    "                                          for dropoff_time in df['tpep_dropoff_datetime']]\n",
    "    \n",
    "    # filter on basis of date_time\n",
    "    if start_date:\n",
    "        df = df.loc[(df['tpep_pickup_datetime'] >= datetime.strptime('start_date', '%Y-%m-%d %H:%M:%S')) & (df['tpep_pickup_datetime'] <= datetime.strptime('stop_date', '%Y-%m-%d %H:%M:%S'))]\n",
    "    \n",
    "    boolean_series = df.apply(validate_pick_up, axis = 1)\n",
    "    filtered_pickup = df[boolean_series]\n",
    "    boolean_series = filtered_pickup.apply(validate_drop_off, axis = 1)\n",
    "    filtered_data = filtered_pickup[boolean_series]\n",
    "    \n",
    "\n",
    "    filtered_data = filtered_data.loc[filtered_data['total_amount']<500]\n",
    "    filtered_data = filtered_data.loc[filtered_data['total_amount']>0]\n",
    "\n",
    "    filtered_data['time_diff'] = filtered_data['tpep_dropoff_datetime'] - filtered_data['tpep_pickup_datetime']\n",
    "    filtered_data['time_diff'] = filtered_data['time_diff'].apply(lambda x: x.seconds/60)\n",
    "\n",
    "    filtered_data = filtered_data.loc[filtered_data['time_diff'] <=180.00]\n",
    "    filtered_data = filtered_data.loc[filtered_data['trip_distance'] < 100.00]\n",
    "    return filtered_data"
   ]
  },
  {
   "cell_type": "code",
   "execution_count": null,
   "metadata": {},
   "outputs": [],
   "source": [
    "filtered_data = filter_data(df,'/Users/maitrai.kansal/Downloads/yellow_tripdata_2016-06.csv')\n",
    "filtered_data.to_csv('10_June_filtered_data.csv')"
   ]
  },
  {
   "cell_type": "code",
   "execution_count": null,
   "metadata": {},
   "outputs": [],
   "source": [
    "#fileName='RideSharingData/filtered_data.csv'\n",
    "fileName='RideSharingData/10_June_filtered_data.csv'"
   ]
  },
  {
   "cell_type": "code",
   "execution_count": null,
   "metadata": {},
   "outputs": [],
   "source": [
    "df = pd.read_csv(fileName)"
   ]
  },
  {
   "cell_type": "code",
   "execution_count": null,
   "metadata": {},
   "outputs": [],
   "source": [
    "def generateRandomBoolean(x):   \n",
    "    return random.getrandbits(1)"
   ]
  },
  {
   "cell_type": "code",
   "execution_count": null,
   "metadata": {},
   "outputs": [],
   "source": [
    "def generateRandomNoOfPassengers(x):\n",
    "    return random.choice([1, 2, 3])"
   ]
  },
  {
   "cell_type": "code",
   "execution_count": null,
   "metadata": {},
   "outputs": [],
   "source": [
    "df['isWillingToWalk'] = df.apply(generateRandomBoolean, axis = 1)\n",
    "df['numberOfPassengers'] = df.apply(generateRandomNoOfPassengers, axis = 1)"
   ]
  },
  {
   "cell_type": "code",
   "execution_count": null,
   "metadata": {},
   "outputs": [],
   "source": [
    "df.to_csv(fileName,sep=\",\");"
   ]
  },
  {
   "cell_type": "code",
   "execution_count": null,
   "metadata": {},
   "outputs": [],
   "source": []
  }
 ],
 "metadata": {
  "kernelspec": {
   "display_name": "Python 3",
   "language": "python",
   "name": "python3"
  },
  "language_info": {
   "codemirror_mode": {
    "name": "ipython",
    "version": 3
   },
   "file_extension": ".py",
   "mimetype": "text/x-python",
   "name": "python",
   "nbconvert_exporter": "python",
   "pygments_lexer": "ipython3",
   "version": "3.6.8"
  }
 },
 "nbformat": 4,
 "nbformat_minor": 2
}
