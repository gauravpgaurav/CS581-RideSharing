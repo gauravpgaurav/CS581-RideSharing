{
 "cells": [
  {
   "cell_type": "code",
   "execution_count": 12,
   "metadata": {},
   "outputs": [],
   "source": [
    "import db_connect\n",
    "sql = db_connect.DatabaseConnect('CS581GROUP6','localhost','root','qwerty','3306')"
   ]
  },
  {
   "cell_type": "code",
   "execution_count": 39,
   "metadata": {},
   "outputs": [],
   "source": [
    "class Evaluation(object):\n",
    "    def __init__(self, start_time, stop_time):\n",
    "        self.start_time = start_time\n",
    "        self.stop_time=stop_time\n",
    "    \n",
    "    def evalute_dist_saved(self):\n",
    "        df = sql.query(\"\"\"select poolingWindowID, sum(indvRideDist) as sum_indv_rides, sum(sharedRideDist) as sum_shared_rides from rides as rd left join REQUESTS as rq on rd.reqID = rq.reqID group by poolingwindowid;\"\"\")\n",
    "        df.plot(kind='line')\n",
    "        self.saved_dist = sum(df.sum_indv_rides)-sum(df.sum_shared_rides)\n",
    "        print('saved_dist: ',self.saved_dist)\n",
    "        print(df)\n",
    "    \n",
    "    def evalute_trips_saved(self):\n",
    "        df = sql.query(\"\"\"select poolingWindowID, count(indvRideDist) as total_indv_rides, count(sharedRideDist) as total_shared_rides from rides as rd right join REQUESTS as rq on rd.reqID = rq.reqID right join POOLING_WINDOW as pw on rq.poolingwindowid = pw.poolingwindowid  where pw.poolingstarttime >= str_to_date('{}','%y-%m-%d %H:%i:%S') and pw.poolingstarttime >= str_to_date('{}','%y-%m-%d %H:%i:%S') group by pw.poolingwindowid;\"\"\".format(self.start_time, self.stop_time))\n",
    "        df.plot(kind='line')\n",
    "        self.saved_trips = sum(df.total_indv_rides)-sum(df.total_shared_rides)\n",
    "        print('saved_trips: ',self.saved_trips)\n",
    "    \n",
    "        \n",
    "    def eval_pool_compute_time(self):\n",
    "        df = sql.query(\"\"\"select poolingDuration, avg(poolingWindowComputeTime) as avd_compute_time from POOLING_WINDOW as pw where pw.poolingstarttime >= str_to_date('{}','%Y-%m-%d %H:%i:%S') and pw.poolingstarttime >= str_to_date('{}','%Y-%m-%d %H:%i:%S') group by pw.poolingduration;\"\"\".format(self.start_time, self.stop_time))\n",
    "        df.plot(kind='bar')\n",
    "        self.avg_compute_time = sum(df.avd_compute_time)/len(df.avd_compute_time)\n",
    "        print('avg_compute_time: ',self.avg_compute_time)"
   ]
  },
  {
   "cell_type": "code",
   "execution_count": 40,
   "metadata": {},
   "outputs": [],
   "source": [
    "c = Evaluation('2016-06-10 08:00:00','2016-06-10 22:00:00')"
   ]
  },
  {
   "cell_type": "code",
   "execution_count": 41,
   "metadata": {},
   "outputs": [
    {
     "name": "stdout",
     "output_type": "stream",
     "text": [
      "saved_dist:  -472548.901\n",
      "  poolingWindowID  sum_indv_rides  sum_shared_rides\n",
      "0               1          351.87        413892.580\n",
      "1               2          114.78         59122.971\n"
     ]
    },
    {
     "data": {
      "image/png": "[encoded data removed]",
      "text/plain": [
       "<Figure size 432x288 with 1 Axes>"
      ]
     },
     "metadata": {
      "needs_background": "light"
     },
     "output_type": "display_data"
    }
   ],
   "source": [
    "c.evalute_dist_saved()"
   ]
  }
 ],
 "metadata": {
  "kernelspec": {
   "display_name": "Python 3",
   "language": "python",
   "name": "python3"
  },
  "language_info": {
   "codemirror_mode": {
    "name": "ipython",
    "version": 3
   },
   "file_extension": ".py",
   "mimetype": "text/x-python",
   "name": "python",
   "nbconvert_exporter": "python",
   "pygments_lexer": "ipython3",
   "version": "3.6.8"
  }
 },
 "nbformat": 4,
 "nbformat_minor": 2
}
