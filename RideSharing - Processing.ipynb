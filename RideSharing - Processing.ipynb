{
 "cells": [
  {
   "cell_type": "code",
   "execution_count": null,
   "metadata": {},
   "outputs": [],
   "source": [
    "from datetime import datetime\n",
    "from datetime import timedelta  \n",
    "import numpy as np\n",
    "import pandas as pd\n",
    "import random\n",
    "import time"
   ]
  },
  {
   "cell_type": "markdown",
   "metadata": {},
   "source": [
    "# Filtering for a month"
   ]
  },
  {
   "cell_type": "code",
   "execution_count": null,
   "metadata": {},
   "outputs": [],
   "source": [
    "def validate_pick_up(row):\n",
    "    if (row['pickup_latitude'] <=  40.66345 and row['pickup_latitude'] >=  40.63596) and (row['pickup_longitude']<=   -73.7664489 and row['pickup_longitude'] >=   -73.8132848):\n",
    "        return True\n",
    "    else:\n",
    "        return False"
   ]
  },
  {
   "cell_type": "code",
   "execution_count": null,
   "metadata": {},
   "outputs": [],
   "source": [
    "def validate_drop_off(row):\n",
    "    lat = row['dropoff_latitude']\n",
    "    long = row['dropoff_longitude']\n",
    "    if((lat > (1.509835492*long + 152.4025459)) and (long < ((12.9717472 - lat)/0.377522883)) and (long > ((12.75605988 - lat)/0.377522883)) and (lat < ((1.509835492)*long + 152.5011075))):\n",
    "        return True\n",
    "    else:\n",
    "        return False"
   ]
  },
  {
   "cell_type": "code",
   "execution_count": null,
   "metadata": {},
   "outputs": [],
   "source": [
    "def drop_irrelevant_columns(filtered_data):\n",
    "    filtered_data = filtered_data.drop(columns = [\"payment_type\",\"fare_amount\",\"extra\",\"mta_tax\",\"tip_amount\",\"tolls_amount\",\"improvement_surcharge\",\"total_amount\",\"RatecodeID\",\"store_and_fwd_flag\",\"VendorID\"])\n",
    "    return filtered_data"
   ]
  },
  {
   "cell_type": "code",
   "execution_count": null,
   "metadata": {},
   "outputs": [],
   "source": [
    "def filter_data(df=None, path_to_file=None):\n",
    "    \n",
    "    if df is None:\n",
    "        df = pd.read_csv(path_to_file)\n",
    "    \n",
    "        df['tpep_pickup_datetime'] = [datetime.strptime(pickup_time, '%Y-%m-%d %H:%M:%S') \n",
    "                                         for pickup_time in df['tpep_pickup_datetime']]\n",
    "        \n",
    "        \n",
    "        df['tpep_dropoff_datetime'] = [datetime.strptime(dropoff_time, '%Y-%m-%d %H:%M:%S')\n",
    "                                          for dropoff_time in df['tpep_dropoff_datetime']]\n",
    "    \n",
    "    df= df.sort_values(by='tpep_pickup_datetime')\n",
    "    \n",
    "    boolean_series = df.apply(validate_pick_up, axis = 1)\n",
    "    filtered_pickup = df[boolean_series]\n",
    "    boolean_series = filtered_pickup.apply(validate_drop_off, axis = 1)\n",
    "    filtered_data = filtered_pickup[boolean_series]\n",
    "    \n",
    "\n",
    "    filtered_data = filtered_data.loc[filtered_data['total_amount']<500]\n",
    "    filtered_data = filtered_data.loc[filtered_data['total_amount']>0]\n",
    "\n",
    "    filtered_data['time_diff'] = filtered_data['tpep_dropoff_datetime'] - filtered_data['tpep_pickup_datetime']\n",
    "    filtered_data['time_diff'] = filtered_data['time_diff'].apply(lambda x: x.seconds/60)\n",
    "\n",
    "    filtered_data = filtered_data.loc[filtered_data['time_diff'] <=180.00]\n",
    "    filtered_data = filtered_data.loc[filtered_data['trip_distance'] < 100.00]\n",
    "    filtered_data['trip_distance'] = filtered_data['trip_distance'] * 1609.34\n",
    "    filtered_data = filtered_data.loc[filtered_data['trip_distance'] > 18000.00]\n",
    "    return filtered_data"
   ]
  },
  {
   "cell_type": "code",
   "execution_count": null,
   "metadata": {},
   "outputs": [],
   "source": [
    "def generateRandomBoolean(x):   \n",
    "    return random.getrandbits(1)"
   ]
  },
  {
   "cell_type": "code",
   "execution_count": null,
   "metadata": {},
   "outputs": [],
   "source": [
    "def generateRandomNoOfPassengers(x):\n",
    "    return random.choice([1, 2])"
   ]
  },
  {
   "cell_type": "code",
   "execution_count": null,
   "metadata": {},
   "outputs": [],
   "source": [
    "df = None\n",
    "#initial filtering\n",
    "filtered_data = filter_data(df,'RideSharingData/yellow_tripdata_2016-03.csv')\n",
    "#drop irrelevant columns\n",
    "df = drop_irrelevant_columns(filtered_data)\n",
    "#assigning random willingness to walk\n",
    "df['isWillingToWalk'] = df.apply(generateRandomBoolean, axis = 1)\n",
    "#assigning random passenger count\n",
    "df['numberOfPassengers'] = df.apply(generateRandomNoOfPassengers, axis = 1)"
   ]
  },
  {
   "cell_type": "code",
   "execution_count": null,
   "metadata": {},
   "outputs": [],
   "source": [
    "df.to_csv('RideSharingData/filtered_data_Mar2016.csv',sep=\",\");\n"
   ]
  },
  {
   "cell_type": "code",
   "execution_count": null,
   "metadata": {},
   "outputs": [],
   "source": [
    "df.shape"
   ]
  },
  {
   "cell_type": "markdown",
   "metadata": {},
   "source": [
    "# Filtering for specific date and time\n"
   ]
  },
  {
   "cell_type": "code",
   "execution_count": null,
   "metadata": {},
   "outputs": [],
   "source": [
    "# filter on basis of date_time\n",
    "def filter_on_start_datetime(start_date_time, stop_date_time, df):\n",
    "    \n",
    "    df['tpep_pickup_datetime'] = [datetime.strptime(pickup_time, '%Y-%m-%d %H:%M:%S') \n",
    "                                         for pickup_time in df['tpep_pickup_datetime']]\n",
    "        \n",
    "        \n",
    "    df['tpep_dropoff_datetime'] = [datetime.strptime(dropoff_time, '%Y-%m-%d %H:%M:%S')\n",
    "                                          for dropoff_time in df['tpep_dropoff_datetime']]\n",
    "    \n",
    "\n",
    "    if start_date_time and stop_date_time:\n",
    "        df = df.loc[(df['tpep_pickup_datetime'] >= start_date_time) \n",
    "                    & (df['tpep_pickup_datetime'] <= stop_date_time)]\n",
    "    return df"
   ]
  },
  {
   "cell_type": "code",
   "execution_count": null,
   "metadata": {},
   "outputs": [],
   "source": [
    "start_date_time_str = '2016-06-10 08:00:00'\n",
    "start_date_time = datetime.strptime(start_date_time_str, '%Y-%m-%d %H:%M:%S') \n",
    "\n",
    "stop_date_time_str = '2016-06-10 22:00:00'\n",
    "stop_date_time = datetime.strptime(stop_date_time_str, '%Y-%m-%d %H:%M:%S') \n",
    "\n",
    "#load monthly data\n",
    "monthly_df = pd.read_csv(\"RideSharingData/filtered_data_Jun2016.csv\")\n",
    "daily_df = filter_on_start_datetime(start_date_time, stop_date_time, monthly_df)"
   ]
  },
  {
   "cell_type": "code",
   "execution_count": null,
   "metadata": {},
   "outputs": [],
   "source": [
    "daily_df.to_csv('RideSharingData/dataset_C.csv',sep=\",\");"
   ]
  },
  {
   "cell_type": "code",
   "execution_count": null,
   "metadata": {},
   "outputs": [],
   "source": []
  }
 ],
 "metadata": {
  "kernelspec": {
   "display_name": "Python 3",
   "language": "python",
   "name": "python3"
  },
  "language_info": {
   "codemirror_mode": {
    "name": "ipython",
    "version": 3
   },
   "file_extension": ".py",
   "mimetype": "text/x-python",
   "name": "python",
   "nbconvert_exporter": "python",
   "pygments_lexer": "ipython3",
   "version": "3.6.8"
  }
 },
 "nbformat": 4,
 "nbformat_minor": 2
}
