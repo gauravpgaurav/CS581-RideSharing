{
 "cells": [
  {
   "cell_type": "markdown",
   "metadata": {},
   "source": [
    "# 1. Raw Data"
   ]
  },
  {
   "cell_type": "markdown",
   "metadata": {},
   "source": [
    "### 1.1 Create DB Conncection"
   ]
  },
  {
   "cell_type": "code",
   "execution_count": 4,
   "metadata": {
    "scrolled": true
   },
   "outputs": [],
   "source": [
    "import db_connect\n",
    "sql = db_connect.DatabaseConnect('CS581GROUP6','localhost','root','qwerty','3306')"
   ]
  },
  {
   "cell_type": "markdown",
   "metadata": {},
   "source": [
    "# 2. Preprocessing"
   ]
  },
  {
   "cell_type": "code",
   "execution_count": 5,
   "metadata": {},
   "outputs": [],
   "source": [
    "import numpy as np\n",
    "from datetime import datetime  \n",
    "from datetime import timedelta  "
   ]
  },
  {
   "cell_type": "markdown",
   "metadata": {},
   "source": [
    "### 2.1 Mapping Coordinates to Destination ID"
   ]
  },
  {
   "cell_type": "code",
   "execution_count": 25,
   "metadata": {},
   "outputs": [],
   "source": [
    "def getdestid(lat,longt):\n",
    "   return df_destinations.iloc[df_destinations.apply(lambda x: np.linalg.norm(np.array([lat, longt]) - np.array([x['destLat'],x['destLong']])), axis=1).idxmin(axis = 0)]['destID']"
   ]
  },
  {
   "cell_type": "code",
   "execution_count": 26,
   "metadata": {},
   "outputs": [],
   "source": [
    "from datetime import datetime\n",
    "import numpy as np\n",
    "import pandas as pd\n",
    "\n",
    "df = pd.read_csv('RideSharingData/filtered_data.csv')\n",
    "df_destinations = sql.query('select * from destination',True)\n",
    "\n",
    "df['tpep_pickup_datetime'] = [datetime.strptime(pickup_time, '%Y-%m-%d %H:%M:%S') \n",
    "                                          for pickup_time in df['tpep_pickup_datetime']]\n",
    "\n",
    "df['tpep_dropoff_datetime'] = [datetime.strptime(dropoff_time, '%Y-%m-%d %H:%M:%S') \n",
    "                                          for dropoff_time in df['tpep_dropoff_datetime']]\n",
    "#df['destination_id'] = df.apply(getdestid, index=['dropoff_latitude', 'dropoff_longitude'])\n",
    "\n",
    "#df['destination_id'] = getdestid(df['dropoff_latitude'],df['dropoff_longitude'])\n",
    "\n",
    "#df['cost'] = cost_function(df['trip_distance'], df['tpep_dropoff_datetime']-df['tpep_pickup_datetime'], False)"
   ]
  },
  {
   "cell_type": "code",
   "execution_count": null,
   "metadata": {},
   "outputs": [],
   "source": [
    "df['destination_id'] = df.iloc[:].apply(lambda x: getdestid(x['dropoff_latitude'],x['dropoff_longitude']),axis = 1)"
   ]
  },
  {
   "cell_type": "code",
   "execution_count": 29,
   "metadata": {},
   "outputs": [],
   "source": [
    "#df['destination_id']"
   ]
  },
  {
   "cell_type": "markdown",
   "metadata": {},
   "source": [
    "### 2.2 Pool Window Assignment"
   ]
  },
  {
   "cell_type": "code",
   "execution_count": 10,
   "metadata": {},
   "outputs": [],
   "source": [
    "def getpoolingwindow(startTime, CurrentTime, counter):\n",
    "    if(CurrentTime < startTime + timedelta(minutes = 5)):\n",
    "        return counter, startTime\n",
    "    else:\n",
    "        while((current - startTime).seconds > 300):\n",
    "            startTime += timedelta(minutes = 5)\n",
    "        \n",
    "        return counter+1, startTime"
   ]
  },
  {
   "cell_type": "markdown",
   "metadata": {},
   "source": [
    "### 2.3 Calculate Delay"
   ]
  },
  {
   "cell_type": "code",
   "execution_count": 11,
   "metadata": {},
   "outputs": [],
   "source": [
    "def getDelay(pickupTime, dropoffTime):\n",
    "    tripTime = (dropoffTime - pickupTime).seconds\n",
    "    tenpercent = tripTime/4\n",
    "    return min(tenpercent, 600)"
   ]
  },
  {
   "cell_type": "markdown",
   "metadata": {},
   "source": [
    "### 2.4 Calculate Walking Time"
   ]
  },
  {
   "cell_type": "code",
   "execution_count": 12,
   "metadata": {},
   "outputs": [],
   "source": [
    "def getWalkingTime(pickupTime, dropoffTime):\n",
    "    tripTime = (dropoffTime - pickupTime).seconds\n",
    "    tenpercent = tripTime/10\n",
    "    return min(tenpercent, 240)"
   ]
  },
  {
   "cell_type": "markdown",
   "metadata": {},
   "source": [
    "### 2.5 Calculate Cost for Individual Ride"
   ]
  },
  {
   "cell_type": "code",
   "execution_count": 6,
   "metadata": {},
   "outputs": [],
   "source": [
    "def millisec_to_min(milli_time):\n",
    "    return milli_time/60000"
   ]
  },
  {
   "cell_type": "code",
   "execution_count": 7,
   "metadata": {},
   "outputs": [],
   "source": [
    "def meter_to_mile(meter_distance):\n",
    "    return meter_distance/1609.34"
   ]
  },
  {
   "cell_type": "code",
   "execution_count": 8,
   "metadata": {},
   "outputs": [],
   "source": [
    "def cost_function(distance, time, isSharedTrip):\n",
    "    #Convert milliseconds to minutes\n",
    "    time = millisec_to_min(time)\n",
    "    #Convert meters to miles\n",
    "    distance = meter_to_mile(distance)\n",
    "    if isSharedTrip:\n",
    "        cost_per_mile = 1.00\n",
    "        cost_per_min = 0.18\n",
    "    else:\n",
    "        cost_per_mile = 1.80\n",
    "        cost_per_min = 0.28\n",
    "    base_fare = 0\n",
    "    booking_fee = 2.3\n",
    "    min_fare = 7.3\n",
    "    \n",
    "    total_fare = (cost_per_mile * distance) + (cost_per_min * time) + base_fare + booking_fee + min_fare\n",
    "    return total_fare"
   ]
  },
  {
   "cell_type": "markdown",
   "metadata": {},
   "source": [
    "### 2.6 Assign Request ID"
   ]
  },
  {
   "cell_type": "code",
   "execution_count": null,
   "metadata": {},
   "outputs": [],
   "source": []
  },
  {
   "cell_type": "code",
   "execution_count": null,
   "metadata": {},
   "outputs": [],
   "source": [
    "walkingTime =  getDelay(pickupTime, dropoffTime)\n",
    "delayTime= getWalkingTime(pickupTime, dropoffTime)  \n",
    "poolID, startTime = getpoolingwindow(startTime, current, 10)\n",
    "destID = getdestid(latlong)"
   ]
  },
  {
   "cell_type": "markdown",
   "metadata": {},
   "source": [
    "# 3. Df_Request Table"
   ]
  },
  {
   "cell_type": "code",
   "execution_count": null,
   "metadata": {},
   "outputs": [],
   "source": []
  }
 ],
 "metadata": {
  "kernelspec": {
   "display_name": "Python 3",
   "language": "python",
   "name": "python3"
  },
  "language_info": {
   "codemirror_mode": {
    "name": "ipython",
    "version": 3
   },
   "file_extension": ".py",
   "mimetype": "text/x-python",
   "name": "python",
   "nbconvert_exporter": "python",
   "pygments_lexer": "ipython3",
   "version": "3.6.8"
  }
 },
 "nbformat": 4,
 "nbformat_minor": 2
}
